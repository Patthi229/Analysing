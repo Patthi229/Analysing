{
 "cells": [
  {
   "cell_type": "code",
   "execution_count": 24,
   "id": "74e7d561",
   "metadata": {},
   "outputs": [
    {
     "name": "stdout",
     "output_type": "stream",
     "text": [
      "Populating the interactive namespace from numpy and matplotlib\n"
     ]
    }
   ],
   "source": [
    "#Import libraries\n",
    "\n",
    "%pylab inline\n",
    "import pandas as pd\n",
    "import matplotlib.pyplot as plt\n",
    "\n",
    "\n",
    "\n",
    "b_names=pd.read_csv('C:/Users/Pratik/Desktop/python assignments/yob1880.txt',names=['name','sex','birth'])"
   ]
  },
  {
   "cell_type": "code",
   "execution_count": 25,
   "id": "d1975183",
   "metadata": {},
   "outputs": [],
   "source": [
    "#loading dataset\n",
    "b_names=pd.read_csv('C:/Users/Pratik/Desktop/python assignments/yob1880.txt',names=['name','sex','birth'])"
   ]
  },
  {
   "cell_type": "code",
   "execution_count": 26,
   "id": "c3f04146",
   "metadata": {},
   "outputs": [
    {
     "data": {
      "text/html": [
       "<div>\n",
       "<style scoped>\n",
       "    .dataframe tbody tr th:only-of-type {\n",
       "        vertical-align: middle;\n",
       "    }\n",
       "\n",
       "    .dataframe tbody tr th {\n",
       "        vertical-align: top;\n",
       "    }\n",
       "\n",
       "    .dataframe thead th {\n",
       "        text-align: right;\n",
       "    }\n",
       "</style>\n",
       "<table border=\"1\" class=\"dataframe\">\n",
       "  <thead>\n",
       "    <tr style=\"text-align: right;\">\n",
       "      <th></th>\n",
       "      <th>name</th>\n",
       "      <th>sex</th>\n",
       "      <th>birth</th>\n",
       "    </tr>\n",
       "  </thead>\n",
       "  <tbody>\n",
       "    <tr>\n",
       "      <th>0</th>\n",
       "      <td>Mary</td>\n",
       "      <td>F</td>\n",
       "      <td>7065</td>\n",
       "    </tr>\n",
       "    <tr>\n",
       "      <th>1</th>\n",
       "      <td>Anna</td>\n",
       "      <td>F</td>\n",
       "      <td>2604</td>\n",
       "    </tr>\n",
       "    <tr>\n",
       "      <th>2</th>\n",
       "      <td>Emma</td>\n",
       "      <td>F</td>\n",
       "      <td>2003</td>\n",
       "    </tr>\n",
       "    <tr>\n",
       "      <th>3</th>\n",
       "      <td>Elizabeth</td>\n",
       "      <td>F</td>\n",
       "      <td>1939</td>\n",
       "    </tr>\n",
       "    <tr>\n",
       "      <th>4</th>\n",
       "      <td>Minnie</td>\n",
       "      <td>F</td>\n",
       "      <td>1746</td>\n",
       "    </tr>\n",
       "  </tbody>\n",
       "</table>\n",
       "</div>"
      ],
      "text/plain": [
       "        name sex  birth\n",
       "0       Mary   F   7065\n",
       "1       Anna   F   2604\n",
       "2       Emma   F   2003\n",
       "3  Elizabeth   F   1939\n",
       "4     Minnie   F   1746"
      ]
     },
     "execution_count": 26,
     "metadata": {},
     "output_type": "execute_result"
    }
   ],
   "source": [
    "b_names.head()"
   ]
  },
  {
   "cell_type": "code",
   "execution_count": 28,
   "id": "eb3ad3c4",
   "metadata": {},
   "outputs": [
    {
     "data": {
      "text/plain": [
       "sex\n",
       "F     90994\n",
       "M    110490\n",
       "Name: birth, dtype: int64"
      ]
     },
     "execution_count": 28,
     "metadata": {},
     "output_type": "execute_result"
    }
   ],
   "source": [
    "b_names.groupby('sex').birth.sum()"
   ]
  },
  {
   "cell_type": "code",
   "execution_count": 42,
   "id": "7683443c",
   "metadata": {},
   "outputs": [
    {
     "data": {
      "text/html": [
       "<div>\n",
       "<style scoped>\n",
       "    .dataframe tbody tr th:only-of-type {\n",
       "        vertical-align: middle;\n",
       "    }\n",
       "\n",
       "    .dataframe tbody tr th {\n",
       "        vertical-align: top;\n",
       "    }\n",
       "\n",
       "    .dataframe thead th {\n",
       "        text-align: right;\n",
       "    }\n",
       "</style>\n",
       "<table border=\"1\" class=\"dataframe\">\n",
       "  <thead>\n",
       "    <tr style=\"text-align: right;\">\n",
       "      <th></th>\n",
       "      <th>name</th>\n",
       "      <th>sex</th>\n",
       "      <th>birth</th>\n",
       "      <th>year</th>\n",
       "    </tr>\n",
       "  </thead>\n",
       "  <tbody>\n",
       "    <tr>\n",
       "      <th>0</th>\n",
       "      <td>Mary</td>\n",
       "      <td>F</td>\n",
       "      <td>7065</td>\n",
       "      <td>1880</td>\n",
       "    </tr>\n",
       "    <tr>\n",
       "      <th>1</th>\n",
       "      <td>Anna</td>\n",
       "      <td>F</td>\n",
       "      <td>2604</td>\n",
       "      <td>1880</td>\n",
       "    </tr>\n",
       "    <tr>\n",
       "      <th>2</th>\n",
       "      <td>Emma</td>\n",
       "      <td>F</td>\n",
       "      <td>2003</td>\n",
       "      <td>1880</td>\n",
       "    </tr>\n",
       "    <tr>\n",
       "      <th>3</th>\n",
       "      <td>Elizabeth</td>\n",
       "      <td>F</td>\n",
       "      <td>1939</td>\n",
       "      <td>1880</td>\n",
       "    </tr>\n",
       "    <tr>\n",
       "      <th>4</th>\n",
       "      <td>Minnie</td>\n",
       "      <td>F</td>\n",
       "      <td>1746</td>\n",
       "      <td>1880</td>\n",
       "    </tr>\n",
       "    <tr>\n",
       "      <th>...</th>\n",
       "      <td>...</td>\n",
       "      <td>...</td>\n",
       "      <td>...</td>\n",
       "      <td>...</td>\n",
       "    </tr>\n",
       "    <tr>\n",
       "      <th>281995</th>\n",
       "      <td>Woodie</td>\n",
       "      <td>M</td>\n",
       "      <td>5</td>\n",
       "      <td>2020</td>\n",
       "    </tr>\n",
       "    <tr>\n",
       "      <th>281996</th>\n",
       "      <td>Worthy</td>\n",
       "      <td>M</td>\n",
       "      <td>5</td>\n",
       "      <td>2020</td>\n",
       "    </tr>\n",
       "    <tr>\n",
       "      <th>281997</th>\n",
       "      <td>Wright</td>\n",
       "      <td>M</td>\n",
       "      <td>5</td>\n",
       "      <td>2020</td>\n",
       "    </tr>\n",
       "    <tr>\n",
       "      <th>281998</th>\n",
       "      <td>York</td>\n",
       "      <td>M</td>\n",
       "      <td>5</td>\n",
       "      <td>2020</td>\n",
       "    </tr>\n",
       "    <tr>\n",
       "      <th>281999</th>\n",
       "      <td>Zachariah</td>\n",
       "      <td>M</td>\n",
       "      <td>5</td>\n",
       "      <td>2020</td>\n",
       "    </tr>\n",
       "  </tbody>\n",
       "</table>\n",
       "<p>282000 rows × 4 columns</p>\n",
       "</div>"
      ],
      "text/plain": [
       "             name sex  birth  year\n",
       "0            Mary   F   7065  1880\n",
       "1            Anna   F   2604  1880\n",
       "2            Emma   F   2003  1880\n",
       "3       Elizabeth   F   1939  1880\n",
       "4          Minnie   F   1746  1880\n",
       "...           ...  ..    ...   ...\n",
       "281995     Woodie   M      5  2020\n",
       "281996     Worthy   M      5  2020\n",
       "281997     Wright   M      5  2020\n",
       "281998       York   M      5  2020\n",
       "281999  Zachariah   M      5  2020\n",
       "\n",
       "[282000 rows x 4 columns]"
      ]
     },
     "execution_count": 42,
     "metadata": {},
     "output_type": "execute_result"
    }
   ],
   "source": [
    "#concatenate data set\n",
    "\n",
    "years=range(1880,2021)\n",
    "arr=[]\n",
    "\n",
    "columns=['name','sex','birth']\n",
    "\n",
    "for year in years:\n",
    "\n",
    "\n",
    "  frame=pd.read_csv('C:/Users/Pratik/Desktop/python assignments/yob1880.txt',names=columns)\n",
    "\n",
    "  frame['year']=year\n",
    "  arr.append(frame)\n",
    "\n",
    "\n",
    "name=pd.concat(arr,ignore_index=True)\n",
    "name"
   ]
  },
  {
   "cell_type": "code",
   "execution_count": 43,
   "id": "f3497666",
   "metadata": {},
   "outputs": [],
   "source": [
    "#Print total birth of male & feamle in each year\n",
    "\n",
    "total_birth=name.pivot_table('birth',index='year',columns='sex',aggfunc=sum)"
   ]
  },
  {
   "cell_type": "code",
   "execution_count": 44,
   "id": "1e565291",
   "metadata": {},
   "outputs": [
    {
     "data": {
      "text/html": [
       "<div>\n",
       "<style scoped>\n",
       "    .dataframe tbody tr th:only-of-type {\n",
       "        vertical-align: middle;\n",
       "    }\n",
       "\n",
       "    .dataframe tbody tr th {\n",
       "        vertical-align: top;\n",
       "    }\n",
       "\n",
       "    .dataframe thead th {\n",
       "        text-align: right;\n",
       "    }\n",
       "</style>\n",
       "<table border=\"1\" class=\"dataframe\">\n",
       "  <thead>\n",
       "    <tr style=\"text-align: right;\">\n",
       "      <th>sex</th>\n",
       "      <th>F</th>\n",
       "      <th>M</th>\n",
       "    </tr>\n",
       "    <tr>\n",
       "      <th>year</th>\n",
       "      <th></th>\n",
       "      <th></th>\n",
       "    </tr>\n",
       "  </thead>\n",
       "  <tbody>\n",
       "    <tr>\n",
       "      <th>1880</th>\n",
       "      <td>90994</td>\n",
       "      <td>110490</td>\n",
       "    </tr>\n",
       "    <tr>\n",
       "      <th>1881</th>\n",
       "      <td>90994</td>\n",
       "      <td>110490</td>\n",
       "    </tr>\n",
       "    <tr>\n",
       "      <th>1882</th>\n",
       "      <td>90994</td>\n",
       "      <td>110490</td>\n",
       "    </tr>\n",
       "    <tr>\n",
       "      <th>1883</th>\n",
       "      <td>90994</td>\n",
       "      <td>110490</td>\n",
       "    </tr>\n",
       "    <tr>\n",
       "      <th>1884</th>\n",
       "      <td>90994</td>\n",
       "      <td>110490</td>\n",
       "    </tr>\n",
       "  </tbody>\n",
       "</table>\n",
       "</div>"
      ],
      "text/plain": [
       "sex       F       M\n",
       "year               \n",
       "1880  90994  110490\n",
       "1881  90994  110490\n",
       "1882  90994  110490\n",
       "1883  90994  110490\n",
       "1884  90994  110490"
      ]
     },
     "execution_count": 44,
     "metadata": {},
     "output_type": "execute_result"
    }
   ],
   "source": [
    "total_birth.head()"
   ]
  },
  {
   "cell_type": "code",
   "execution_count": null,
   "id": "d4629f6a",
   "metadata": {},
   "outputs": [],
   "source": [
    "#Plot'Total Birth by sex and year'"
   ]
  },
  {
   "cell_type": "code",
   "execution_count": 45,
   "id": "d1ea8501",
   "metadata": {},
   "outputs": [
    {
     "data": {
      "text/plain": [
       "<AxesSubplot:title={'center':'Total Birth by sex and year'}, xlabel='year'>"
      ]
     },
     "execution_count": 45,
     "metadata": {},
     "output_type": "execute_result"
    },
    {
     "data": {
      "image/png": "[encoded data removed]",
      "text/plain": [
       "<Figure size 432x288 with 1 Axes>"
      ]
     },
     "metadata": {
      "needs_background": "light"
     },
     "output_type": "display_data"
    }
   ],
   "source": [
    "total_birth.plot(title='Total Birth by sex and year')"
   ]
  },
  {
   "cell_type": "code",
   "execution_count": 46,
   "id": "b1f12c28",
   "metadata": {},
   "outputs": [
    {
     "data": {
      "text/html": [
       "<div>\n",
       "<style scoped>\n",
       "    .dataframe tbody tr th:only-of-type {\n",
       "        vertical-align: middle;\n",
       "    }\n",
       "\n",
       "    .dataframe tbody tr th {\n",
       "        vertical-align: top;\n",
       "    }\n",
       "\n",
       "    .dataframe thead th {\n",
       "        text-align: right;\n",
       "    }\n",
       "</style>\n",
       "<table border=\"1\" class=\"dataframe\">\n",
       "  <thead>\n",
       "    <tr style=\"text-align: right;\">\n",
       "      <th></th>\n",
       "      <th>name</th>\n",
       "      <th>sex</th>\n",
       "      <th>birth</th>\n",
       "      <th>year</th>\n",
       "      <th>popular_name</th>\n",
       "    </tr>\n",
       "  </thead>\n",
       "  <tbody>\n",
       "    <tr>\n",
       "      <th>0</th>\n",
       "      <td>Mary</td>\n",
       "      <td>F</td>\n",
       "      <td>7065</td>\n",
       "      <td>1880</td>\n",
       "      <td>7.764248</td>\n",
       "    </tr>\n",
       "    <tr>\n",
       "      <th>1</th>\n",
       "      <td>Anna</td>\n",
       "      <td>F</td>\n",
       "      <td>2604</td>\n",
       "      <td>1880</td>\n",
       "      <td>2.861727</td>\n",
       "    </tr>\n",
       "    <tr>\n",
       "      <th>2</th>\n",
       "      <td>Emma</td>\n",
       "      <td>F</td>\n",
       "      <td>2003</td>\n",
       "      <td>1880</td>\n",
       "      <td>2.201244</td>\n",
       "    </tr>\n",
       "    <tr>\n",
       "      <th>3</th>\n",
       "      <td>Elizabeth</td>\n",
       "      <td>F</td>\n",
       "      <td>1939</td>\n",
       "      <td>1880</td>\n",
       "      <td>2.130910</td>\n",
       "    </tr>\n",
       "    <tr>\n",
       "      <th>4</th>\n",
       "      <td>Minnie</td>\n",
       "      <td>F</td>\n",
       "      <td>1746</td>\n",
       "      <td>1880</td>\n",
       "      <td>1.918808</td>\n",
       "    </tr>\n",
       "    <tr>\n",
       "      <th>...</th>\n",
       "      <td>...</td>\n",
       "      <td>...</td>\n",
       "      <td>...</td>\n",
       "      <td>...</td>\n",
       "      <td>...</td>\n",
       "    </tr>\n",
       "    <tr>\n",
       "      <th>281995</th>\n",
       "      <td>Woodie</td>\n",
       "      <td>M</td>\n",
       "      <td>5</td>\n",
       "      <td>2020</td>\n",
       "      <td>0.004525</td>\n",
       "    </tr>\n",
       "    <tr>\n",
       "      <th>281996</th>\n",
       "      <td>Worthy</td>\n",
       "      <td>M</td>\n",
       "      <td>5</td>\n",
       "      <td>2020</td>\n",
       "      <td>0.004525</td>\n",
       "    </tr>\n",
       "    <tr>\n",
       "      <th>281997</th>\n",
       "      <td>Wright</td>\n",
       "      <td>M</td>\n",
       "      <td>5</td>\n",
       "      <td>2020</td>\n",
       "      <td>0.004525</td>\n",
       "    </tr>\n",
       "    <tr>\n",
       "      <th>281998</th>\n",
       "      <td>York</td>\n",
       "      <td>M</td>\n",
       "      <td>5</td>\n",
       "      <td>2020</td>\n",
       "      <td>0.004525</td>\n",
       "    </tr>\n",
       "    <tr>\n",
       "      <th>281999</th>\n",
       "      <td>Zachariah</td>\n",
       "      <td>M</td>\n",
       "      <td>5</td>\n",
       "      <td>2020</td>\n",
       "      <td>0.004525</td>\n",
       "    </tr>\n",
       "  </tbody>\n",
       "</table>\n",
       "<p>282000 rows × 5 columns</p>\n",
       "</div>"
      ],
      "text/plain": [
       "             name sex  birth  year  popular_name\n",
       "0            Mary   F   7065  1880      7.764248\n",
       "1            Anna   F   2604  1880      2.861727\n",
       "2            Emma   F   2003  1880      2.201244\n",
       "3       Elizabeth   F   1939  1880      2.130910\n",
       "4          Minnie   F   1746  1880      1.918808\n",
       "...           ...  ..    ...   ...           ...\n",
       "281995     Woodie   M      5  2020      0.004525\n",
       "281996     Worthy   M      5  2020      0.004525\n",
       "281997     Wright   M      5  2020      0.004525\n",
       "281998       York   M      5  2020      0.004525\n",
       "281999  Zachariah   M      5  2020      0.004525\n",
       "\n",
       "[282000 rows x 5 columns]"
      ]
     },
     "execution_count": 46,
     "metadata": {},
     "output_type": "execute_result"
    }
   ],
   "source": [
    "#display a table to print percentage of baby name in each year\n",
    "\n",
    "def add_pname(popular_name):\n",
    "    popular_name['popular_name']=((popular_name.birth/popular_name.birth.sum())*100)\n",
    "    return popular_name\n",
    "\n",
    "name=name.groupby(['year' ,'sex']).apply(add_pname)\n",
    "name"
   ]
  },
  {
   "cell_type": "code",
   "execution_count": 52,
   "id": "434ac303",
   "metadata": {},
   "outputs": [],
   "source": [
    "#analyse baby names by sorting out top 100 birth counts and group them by names to find\n",
    "out popular baby names\n",
    "\n",
    "def top_name(popular_name):\n",
    "    return popular_name.sort_values(by= 'birth',ascending=False)[:10]\n",
    "\n",
    "p_name=name.groupby(['sex','birth'])\n",
    "top_100=p_name.apply(top_name)\n",
    "top_100.reset_index(inplace=True,drop=True)                    "
   ]
  },
  {
   "cell_type": "code",
   "execution_count": 53,
   "id": "a56f868b",
   "metadata": {},
   "outputs": [],
   "source": [
    "#Analysing naming trends\n",
    "\n",
    "boy_name = top_100[top_100.sex ==  'M']\n",
    "girl_name = top_100[top_100.sex == 'F']\n",
    "\n",
    "total_birth = top_100.pivot_table('birth', index='year' ,columns= 'name', aggfunc= sum)"
   ]
  },
  {
   "cell_type": "code",
   "execution_count": 54,
   "id": "33b5a576",
   "metadata": {},
   "outputs": [
    {
     "data": {
      "text/html": [
       "<div>\n",
       "<style scoped>\n",
       "    .dataframe tbody tr th:only-of-type {\n",
       "        vertical-align: middle;\n",
       "    }\n",
       "\n",
       "    .dataframe tbody tr th {\n",
       "        vertical-align: top;\n",
       "    }\n",
       "\n",
       "    .dataframe thead th {\n",
       "        text-align: right;\n",
       "    }\n",
       "</style>\n",
       "<table border=\"1\" class=\"dataframe\">\n",
       "  <thead>\n",
       "    <tr style=\"text-align: right;\">\n",
       "      <th></th>\n",
       "      <th>name</th>\n",
       "      <th>sex</th>\n",
       "      <th>birth</th>\n",
       "      <th>year</th>\n",
       "      <th>popular_name</th>\n",
       "    </tr>\n",
       "  </thead>\n",
       "  <tbody>\n",
       "    <tr>\n",
       "      <th>2130</th>\n",
       "      <td>Ab</td>\n",
       "      <td>M</td>\n",
       "      <td>5</td>\n",
       "      <td>1880</td>\n",
       "      <td>0.004525</td>\n",
       "    </tr>\n",
       "    <tr>\n",
       "      <th>2131</th>\n",
       "      <td>Alvia</td>\n",
       "      <td>M</td>\n",
       "      <td>5</td>\n",
       "      <td>1974</td>\n",
       "      <td>0.004525</td>\n",
       "    </tr>\n",
       "    <tr>\n",
       "      <th>2132</th>\n",
       "      <td>Almer</td>\n",
       "      <td>M</td>\n",
       "      <td>5</td>\n",
       "      <td>1974</td>\n",
       "      <td>0.004525</td>\n",
       "    </tr>\n",
       "    <tr>\n",
       "      <th>2133</th>\n",
       "      <td>Albertus</td>\n",
       "      <td>M</td>\n",
       "      <td>5</td>\n",
       "      <td>1974</td>\n",
       "      <td>0.004525</td>\n",
       "    </tr>\n",
       "    <tr>\n",
       "      <th>2134</th>\n",
       "      <td>Agustus</td>\n",
       "      <td>M</td>\n",
       "      <td>5</td>\n",
       "      <td>1974</td>\n",
       "      <td>0.004525</td>\n",
       "    </tr>\n",
       "  </tbody>\n",
       "</table>\n",
       "</div>"
      ],
      "text/plain": [
       "          name sex  birth  year  popular_name\n",
       "2130        Ab   M      5  1880      0.004525\n",
       "2131     Alvia   M      5  1974      0.004525\n",
       "2132     Almer   M      5  1974      0.004525\n",
       "2133  Albertus   M      5  1974      0.004525\n",
       "2134   Agustus   M      5  1974      0.004525"
      ]
     },
     "execution_count": 54,
     "metadata": {},
     "output_type": "execute_result"
    }
   ],
   "source": [
    "boy_name.head()"
   ]
  },
  {
   "cell_type": "code",
   "execution_count": 55,
   "id": "8e03ae12",
   "metadata": {},
   "outputs": [
    {
     "data": {
      "text/html": [
       "<div>\n",
       "<style scoped>\n",
       "    .dataframe tbody tr th:only-of-type {\n",
       "        vertical-align: middle;\n",
       "    }\n",
       "\n",
       "    .dataframe tbody tr th {\n",
       "        vertical-align: top;\n",
       "    }\n",
       "\n",
       "    .dataframe thead th {\n",
       "        text-align: right;\n",
       "    }\n",
       "</style>\n",
       "<table border=\"1\" class=\"dataframe\">\n",
       "  <thead>\n",
       "    <tr style=\"text-align: right;\">\n",
       "      <th></th>\n",
       "      <th>name</th>\n",
       "      <th>sex</th>\n",
       "      <th>birth</th>\n",
       "      <th>year</th>\n",
       "      <th>popular_name</th>\n",
       "    </tr>\n",
       "  </thead>\n",
       "  <tbody>\n",
       "    <tr>\n",
       "      <th>0</th>\n",
       "      <td>Adelle</td>\n",
       "      <td>F</td>\n",
       "      <td>5</td>\n",
       "      <td>1880</td>\n",
       "      <td>0.005495</td>\n",
       "    </tr>\n",
       "    <tr>\n",
       "      <th>1</th>\n",
       "      <td>Alys</td>\n",
       "      <td>F</td>\n",
       "      <td>5</td>\n",
       "      <td>1974</td>\n",
       "      <td>0.005495</td>\n",
       "    </tr>\n",
       "    <tr>\n",
       "      <th>2</th>\n",
       "      <td>Theda</td>\n",
       "      <td>F</td>\n",
       "      <td>5</td>\n",
       "      <td>1973</td>\n",
       "      <td>0.005495</td>\n",
       "    </tr>\n",
       "    <tr>\n",
       "      <th>3</th>\n",
       "      <td>Thelma</td>\n",
       "      <td>F</td>\n",
       "      <td>5</td>\n",
       "      <td>1973</td>\n",
       "      <td>0.005495</td>\n",
       "    </tr>\n",
       "    <tr>\n",
       "      <th>4</th>\n",
       "      <td>Thursa</td>\n",
       "      <td>F</td>\n",
       "      <td>5</td>\n",
       "      <td>1973</td>\n",
       "      <td>0.005495</td>\n",
       "    </tr>\n",
       "  </tbody>\n",
       "</table>\n",
       "</div>"
      ],
      "text/plain": [
       "     name sex  birth  year  popular_name\n",
       "0  Adelle   F      5  1880      0.005495\n",
       "1    Alys   F      5  1974      0.005495\n",
       "2   Theda   F      5  1973      0.005495\n",
       "3  Thelma   F      5  1973      0.005495\n",
       "4  Thursa   F      5  1973      0.005495"
      ]
     },
     "execution_count": 55,
     "metadata": {},
     "output_type": "execute_result"
    }
   ],
   "source": [
    "girl_name.head()"
   ]
  },
  {
   "cell_type": "code",
   "execution_count": 57,
   "id": "e81eb190",
   "metadata": {},
   "outputs": [
    {
     "ename": "SyntaxError",
     "evalue": "invalid syntax (Temp/ipykernel_8228/2708690810.py, line 1)",
     "output_type": "error",
     "traceback": [
      "\u001b[1;36m  File \u001b[1;32m\"C:\\Users\\Pratik\\AppData\\Local\\Temp/ipykernel_8228/2708690810.py\"\u001b[1;36m, line \u001b[1;32m1\u001b[0m\n\u001b[1;33m    `nbconvert[webpdf]`\u001b[0m\n\u001b[1;37m    ^\u001b[0m\n\u001b[1;31mSyntaxError\u001b[0m\u001b[1;31m:\u001b[0m invalid syntax\n"
     ]
    }
   ],
   "source": [
    "`nbconvert[webpdf]`"
   ]
  },
  {
   "cell_type": "code",
   "execution_count": 58,
   "id": "6a0f26db",
   "metadata": {},
   "outputs": [
    {
     "data": {
      "text/plain": [
       "'nbconvert[webpdf]'"
      ]
     },
     "execution_count": 58,
     "metadata": {},
     "output_type": "execute_result"
    }
   ],
   "source": [
    "'nbconvert[webpdf]'"
   ]
  },
  {
   "cell_type": "code",
   "execution_count": 59,
   "id": "b4fbe488",
   "metadata": {},
   "outputs": [
    {
     "name": "stdout",
     "output_type": "stream",
     "text": [
      "Note: you may need to restart the kernel to use updated packages.\n"
     ]
    },
    {
     "name": "stderr",
     "output_type": "stream",
     "text": [
      "ERROR: Invalid requirement: \"'nbconvert[webpdf]'\"\n"
     ]
    }
   ],
   "source": [
    "pip install 'nbconvert[webpdf]'"
   ]
  },
  {
   "cell_type": "code",
   "execution_count": null,
   "id": "a87d4dea",
   "metadata": {},
   "outputs": [],
   "source": []
  }
 ],
 "metadata": {
  "kernelspec": {
   "display_name": "Python 3 (ipykernel)",
   "language": "python",
   "name": "python3"
  },
  "language_info": {
   "codemirror_mode": {
    "name": "ipython",
    "version": 3
   },
   "file_extension": ".py",
   "mimetype": "text/x-python",
   "name": "python",
   "nbconvert_exporter": "python",
   "pygments_lexer": "ipython3",
   "version": "3.9.7"
  }
 },
 "nbformat": 4,
 "nbformat_minor": 5
}
